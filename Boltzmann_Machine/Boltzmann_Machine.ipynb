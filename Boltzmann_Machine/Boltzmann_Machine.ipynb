{
 "cells": [
  {
   "cell_type": "markdown",
   "metadata": {
    "id": "K4f4JG1gdKqj"
   },
   "source": [
    "#Boltzmann Machine"
   ]
  },
  {
   "cell_type": "markdown",
   "metadata": {
    "id": "1jbiqOK7dLGG"
   },
   "source": [
    "##Downloading the dataset"
   ]
  },
  {
   "cell_type": "markdown",
   "metadata": {
    "id": "XL5MEkLcfRD2"
   },
   "source": [
    "###ML-100K"
   ]
  },
  {
   "cell_type": "code",
   "execution_count": 1,
   "metadata": {
    "colab": {
     "base_uri": "https://localhost:8080/",
     "height": 646
    },
    "id": "rjOPzue7FCXJ",
    "outputId": "44d3a628-f522-4d0d-efdf-009b7d3a28df"
   },
   "outputs": [
    {
     "name": "stdout",
     "output_type": "stream",
     "text": [
      "--2021-02-27 16:12:57--  http://files.grouplens.org/datasets/movielens/ml-100k.zip\n",
      "Resolving files.grouplens.org (files.grouplens.org)... 128.101.65.152\n",
      "Connecting to files.grouplens.org (files.grouplens.org)|128.101.65.152|:80... connected.\n",
      "HTTP request sent, awaiting response... 200 OK\n",
      "Length: 4924029 (4.7M) [application/zip]\n",
      "Saving to: ‘ml-100k.zip’\n",
      "\n",
      "ml-100k.zip         100%[===================>]   4.70M  62.3KB/s    in 8m 4s   \n",
      "\n",
      "2021-02-27 16:21:05 (9.93 KB/s) - ‘ml-100k.zip’ saved [4924029/4924029]\n",
      "\n",
      "Archive:  ml-100k.zip\n",
      "   creating: ml-100k/\n",
      "  inflating: ml-100k/allbut.pl       \n",
      "  inflating: ml-100k/mku.sh          \n",
      "  inflating: ml-100k/README          \n",
      "  inflating: ml-100k/u.data          \n",
      "  inflating: ml-100k/u.genre         \n",
      "  inflating: ml-100k/u.info          \n",
      "  inflating: ml-100k/u.item          \n",
      "  inflating: ml-100k/u.occupation    \n",
      "  inflating: ml-100k/u.user          \n",
      "  inflating: ml-100k/u1.base         \n",
      "  inflating: ml-100k/u1.test         \n",
      "  inflating: ml-100k/u2.base         \n",
      "  inflating: ml-100k/u2.test         \n",
      "  inflating: ml-100k/u3.base         \n",
      "  inflating: ml-100k/u3.test         \n",
      "  inflating: ml-100k/u4.base         \n",
      "  inflating: ml-100k/u4.test         \n",
      "  inflating: ml-100k/u5.base         \n",
      "  inflating: ml-100k/u5.test         \n",
      "  inflating: ml-100k/ua.base         \n",
      "  inflating: ml-100k/ua.test         \n",
      "  inflating: ml-100k/ub.base         \n",
      "  inflating: ml-100k/ub.test         \n",
      " 10TH.jpeg\n",
      " 20201107133056502.pdf\n",
      "'46 6 Same BSTs.mp4'\n",
      "'5_6339072189286842765 (1).pdf'\n",
      " 5_6339072189286842765.pdf\n",
      " 58794_original.png\n",
      " anydesk_6.0.1-1_amd64.deb\n",
      "'Artificial_Intelligence_A_Z___Learn_How_To_Build_An_AI+(2).pdf'\n",
      " Artificial_Intelligence_for_Business.pdf\n",
      " Artificial_Neural_Network\n",
      " Artificial_Neural_Network.zip\n",
      "'Aunty ji'\n",
      " balena-etcher-electron-1.5.104-linux-x64\n",
      " Boltzmann_Machine.ipynb\n",
      " BONUS_multiple_linear_regression.ipynb\n",
      " BONUS_simple_linear_regression.ipynb\n",
      " catboost.ipynb\n",
      " Classification_Pros_Cons.pdf\n",
      " code_1.52.1-1608136922_amd64.deb\n",
      "'co evolution(3).pdf'\n",
      "'Co evolution.pdf'\n",
      "'ConfirmationPage_210510308917 (1).pdf'\n",
      " ConfirmationPage_210510308917.pdf\n",
      " CVPR17_training_code\n",
      " Data+Science+for+Business+Package\n",
      " Data+Science+for+Business+Package.zip\n",
      "'DIPLOMA ME'\n",
      " DOGE_USD_2021-02-08-CoinDesk.csv\n",
      "'Edusat Registrations.pdf'\n",
      "'gagan pratap zero to hero-20201227T103229Z-017.zip'\n",
      " gym\n",
      "'History For Ssc Cgl Complete By Abhishek Suman-20201227T131612Z-003.zip'\n",
      " Homework\n",
      " Homework.zip\n",
      " Human_Resources.csv\n",
      " Human_Resources_Department_Skeleton.ipynb\n",
      "'HumanResources_slides (1).pptx'\n",
      " HumanResources_slides.pptx\n",
      " index.aspx.pdf\n",
      "'Learn English Speaking Course – How To Speak English Fluently'\n",
      " Logistic_Regression\n",
      " Logistic_Regression.zip\n",
      "'Machine+Learning+A-Z+(Codes+and+Datasets)'\n",
      "'Machine+Learning+A-Z+(Model+Selection)'\n",
      "'Machine+Learning+A-Z+(Model+Selection) (1)'\n",
      "'Machine+Learning+A-Z+(Model+Selection) (1).zip'\n",
      "'Machine+Learning+A-Z+(Model+Selection) (2).zip'\n",
      "'Machine+Learning+A-Z+(Model+Selection).zip'\n",
      "'Maintenance_&_Manufacturing_Department.ipynb'\n",
      "'Maintenance_&_Manufacturing.ipynb'\n",
      " Maintenance_slides_final.pptx\n",
      " Marketing_Department_Solution.ipynb\n",
      " Marketing_slides.pptx\n",
      " ml-100k\n",
      " ml-100k.zip\n",
      " MOVIES\n",
      "'NET JRF DOC'\n",
      " Operations_Department_Solution.ipynb\n",
      "'operations_slides (1).pptx'\n",
      " operations_slides.pptx\n",
      " original\n",
      " original.zip\n",
      " P12-OfficeSupplies.csv\n",
      " P16-Artificial-Neural-Networks\n",
      " P16-Artificial-Neural-Networks.zip\n",
      " P16-Convolutional-Neural-Networks.zip\n",
      " P16-Homework-Challenge.zip\n",
      " P16-Mega-Case-Study\n",
      " P16-Mega-Case-Study.zip\n",
      " P16-Self-Organizing-Maps\n",
      " P16-Self-Organizing-Maps.zip\n",
      " P20-Self-Driving-Car\n",
      " P20-Self-Driving-Car.zip\n",
      " P47-Part-1\n",
      "'P47-Part-1 (1).zip'\n",
      " P47-Part-1.zip\n",
      "'P47-Part-2 (1).zip'\n",
      " P47-Part-2.zip\n",
      "'P47-Part-3 (1).zip'\n",
      " P47-Part-3.zip\n",
      "'Part+3+-+Recurrent+Neural+Networks (1)'\n",
      "'Part+3+-+Recurrent+Neural+Networks (1).zip'\n",
      " Part+3+-+Recurrent+Neural+Networks.zip\n",
      " pdf2docx\n",
      " Photos\n",
      " Photos.zip\n",
      "'Polity For Ssc Cgl By Abhishiek Suman-20201227T101831Z-003.zip'\n",
      "'Polity For Ssc Cgl By Abhishiek Suman-20201227T113406Z-001.zip'\n",
      " Public_Relations_Department.ipynb\n",
      " PublicRelations_slides.pptx\n",
      " qwikLABS-L2379-24291900.pem\n",
      " qwikLABS-L2383-24264871.pem\n",
      " qwikLABS-L2386-24241003.pem\n",
      " qwikLABS-L2386-24241418.pem\n",
      " qwikLABS-L2386-24241500.pem\n",
      " Regression_Bonus\n",
      "'Regression_Bonus (1)'\n",
      "'Regression_Bonus (1).zip'\n",
      " Regression_Bonus.zip\n",
      "'RPS EXAM FORMAT'\n",
      " sales_slides.pptx\n",
      "'See Season 1 Complete AppleTV WEBRip x264 [Pahe.me]'\n",
      "'sonu (1).jpg'\n",
      "'sonu (2).jpg'\n",
      " sonu.jpg\n",
      " SSC-20201227T123301Z-035.zip\n",
      "'Ssc Cgl Based Geography-20201227T145211Z-001.zip'\n",
      " TableauDesktop-64bit-2020-4-0.exe\n",
      " tableau-server-2020-4-0_amd64.deb\n",
      "'Telegram Desktop'\n",
      "'Udemy - IELTS-band-7-preparation-course-20201221T095057Z-002'\n",
      "'Udemy - IELTS-band-7-preparation-course-20201221T095057Z-002.zip'\n",
      "'Unconfirmed 395562.crdownload'\n",
      " unsorted\n",
      " VedicReport11-12-202019-42-44.pdf\n",
      " VedicReport11-12-202019-43-00.pdf\n"
     ]
    }
   ],
   "source": [
    "!wget \"http://files.grouplens.org/datasets/movielens/ml-100k.zip\"\n",
    "!unzip ml-100k.zip\n",
    "!ls"
   ]
  },
  {
   "cell_type": "markdown",
   "metadata": {
    "id": "9Xis6ldDfTs6"
   },
   "source": [
    "###ML-1M"
   ]
  },
  {
   "cell_type": "code",
   "execution_count": 2,
   "metadata": {
    "colab": {
     "base_uri": "https://localhost:8080/",
     "height": 323
    },
    "id": "LOly1yfAfTjd",
    "outputId": "22029b8c-79f2-46a2-a745-cdce83582b40"
   },
   "outputs": [
    {
     "name": "stdout",
     "output_type": "stream",
     "text": [
      "--2021-02-27 16:24:25--  http://files.grouplens.org/datasets/movielens/ml-1m.zip\n",
      "Resolving files.grouplens.org (files.grouplens.org)... 128.101.65.152\n",
      "Connecting to files.grouplens.org (files.grouplens.org)|128.101.65.152|:80... connected.\n",
      "HTTP request sent, awaiting response... 200 OK\n",
      "Length: 5917549 (5.6M) [application/zip]\n",
      "Saving to: ‘ml-1m.zip’\n",
      "\n",
      "ml-1m.zip           100%[===================>]   5.64M  21.0KB/s    in 6m 37s  \n",
      "\n",
      "2021-02-27 16:31:03 (14.5 KB/s) - ‘ml-1m.zip’ saved [5917549/5917549]\n",
      "\n",
      "Archive:  ml-1m.zip\n",
      "   creating: ml-1m/\n",
      "  inflating: ml-1m/movies.dat        \n",
      "  inflating: ml-1m/ratings.dat       \n",
      "  inflating: ml-1m/README            \n",
      "  inflating: ml-1m/users.dat         \n",
      " 10TH.jpeg\n",
      " 20201107133056502.pdf\n",
      "'46 6 Same BSTs.mp4'\n",
      "'5_6339072189286842765 (1).pdf'\n",
      " 5_6339072189286842765.pdf\n",
      " 58794_original.png\n",
      " anydesk_6.0.1-1_amd64.deb\n",
      "'Artificial_Intelligence_A_Z___Learn_How_To_Build_An_AI+(2).pdf'\n",
      " Artificial_Intelligence_for_Business.pdf\n",
      " Artificial_Neural_Network\n",
      " Artificial_Neural_Network.zip\n",
      "'Aunty ji'\n",
      " balena-etcher-electron-1.5.104-linux-x64\n",
      " Boltzmann_Machine.ipynb\n",
      " BONUS_multiple_linear_regression.ipynb\n",
      " BONUS_simple_linear_regression.ipynb\n",
      " catboost.ipynb\n",
      " Classification_Pros_Cons.pdf\n",
      " code_1.52.1-1608136922_amd64.deb\n",
      "'co evolution(3).pdf'\n",
      "'Co evolution.pdf'\n",
      "'ConfirmationPage_210510308917 (1).pdf'\n",
      " ConfirmationPage_210510308917.pdf\n",
      " CVPR17_training_code\n",
      " Data+Science+for+Business+Package\n",
      " Data+Science+for+Business+Package.zip\n",
      "'DIPLOMA ME'\n",
      " DOGE_USD_2021-02-08-CoinDesk.csv\n",
      "'Edusat Registrations.pdf'\n",
      "'gagan pratap zero to hero-20201227T103229Z-017.zip'\n",
      " gym\n",
      "'History For Ssc Cgl Complete By Abhishek Suman-20201227T131612Z-003.zip'\n",
      " Homework\n",
      " Homework.zip\n",
      " Human_Resources.csv\n",
      " Human_Resources_Department_Skeleton.ipynb\n",
      "'HumanResources_slides (1).pptx'\n",
      " HumanResources_slides.pptx\n",
      " index.aspx.pdf\n",
      "'Learn English Speaking Course – How To Speak English Fluently'\n",
      " Logistic_Regression\n",
      " Logistic_Regression.zip\n",
      "'Machine+Learning+A-Z+(Codes+and+Datasets)'\n",
      "'Machine+Learning+A-Z+(Model+Selection)'\n",
      "'Machine+Learning+A-Z+(Model+Selection) (1)'\n",
      "'Machine+Learning+A-Z+(Model+Selection) (1).zip'\n",
      "'Machine+Learning+A-Z+(Model+Selection) (2).zip'\n",
      "'Machine+Learning+A-Z+(Model+Selection).zip'\n",
      "'Maintenance_&_Manufacturing_Department.ipynb'\n",
      "'Maintenance_&_Manufacturing.ipynb'\n",
      " Maintenance_slides_final.pptx\n",
      " Marketing_Department_Solution.ipynb\n",
      " Marketing_slides.pptx\n",
      " ml-100k\n",
      " ml-100k.zip\n",
      " ml-1m\n",
      " ml-1m.zip\n",
      " MOVIES\n",
      "'NET JRF DOC'\n",
      " Operations_Department_Solution.ipynb\n",
      "'operations_slides (1).pptx'\n",
      " operations_slides.pptx\n",
      " original\n",
      " original.zip\n",
      " P12-OfficeSupplies.csv\n",
      " P16-Artificial-Neural-Networks\n",
      " P16-Artificial-Neural-Networks.zip\n",
      " P16-Convolutional-Neural-Networks.zip\n",
      " P16-Homework-Challenge.zip\n",
      " P16-Mega-Case-Study\n",
      " P16-Mega-Case-Study.zip\n",
      " P16-Self-Organizing-Maps\n",
      " P16-Self-Organizing-Maps.zip\n",
      " P20-Self-Driving-Car\n",
      " P20-Self-Driving-Car.zip\n",
      " P47-Part-1\n",
      "'P47-Part-1 (1).zip'\n",
      " P47-Part-1.zip\n",
      "'P47-Part-2 (1).zip'\n",
      " P47-Part-2.zip\n",
      "'P47-Part-3 (1).zip'\n",
      " P47-Part-3.zip\n",
      "'Part+3+-+Recurrent+Neural+Networks (1)'\n",
      "'Part+3+-+Recurrent+Neural+Networks (1).zip'\n",
      " Part+3+-+Recurrent+Neural+Networks.zip\n",
      " pdf2docx\n",
      " Photos\n",
      " Photos.zip\n",
      "'Polity For Ssc Cgl By Abhishiek Suman-20201227T101831Z-003.zip'\n",
      "'Polity For Ssc Cgl By Abhishiek Suman-20201227T113406Z-001.zip'\n",
      " Public_Relations_Department.ipynb\n",
      " PublicRelations_slides.pptx\n",
      " qwikLABS-L2379-24291900.pem\n",
      " qwikLABS-L2383-24264871.pem\n",
      " qwikLABS-L2386-24241003.pem\n",
      " qwikLABS-L2386-24241418.pem\n",
      " qwikLABS-L2386-24241500.pem\n",
      " Regression_Bonus\n",
      "'Regression_Bonus (1)'\n",
      "'Regression_Bonus (1).zip'\n",
      " Regression_Bonus.zip\n",
      "'RPS EXAM FORMAT'\n",
      " sales_slides.pptx\n",
      "'See Season 1 Complete AppleTV WEBRip x264 [Pahe.me]'\n",
      "'sonu (1).jpg'\n",
      "'sonu (2).jpg'\n",
      " sonu.jpg\n",
      " SSC-20201227T123301Z-035.zip\n",
      "'Ssc Cgl Based Geography-20201227T145211Z-001.zip'\n",
      " TableauDesktop-64bit-2020-4-0.exe\n",
      " tableau-server-2020-4-0_amd64.deb\n",
      "'Telegram Desktop'\n",
      "'Udemy - IELTS-band-7-preparation-course-20201221T095057Z-002'\n",
      "'Udemy - IELTS-band-7-preparation-course-20201221T095057Z-002.zip'\n",
      "'Unconfirmed 395562.crdownload'\n",
      " unsorted\n",
      " VedicReport11-12-202019-42-44.pdf\n",
      " VedicReport11-12-202019-43-00.pdf\n"
     ]
    }
   ],
   "source": [
    "!wget \"http://files.grouplens.org/datasets/movielens/ml-1m.zip\"\n",
    "!unzip ml-1m.zip\n",
    "!ls"
   ]
  },
  {
   "cell_type": "markdown",
   "metadata": {
    "id": "EOBJ8UCXdY0g"
   },
   "source": [
    "##Importing the libraries"
   ]
  },
  {
   "cell_type": "code",
   "execution_count": 3,
   "metadata": {
    "id": "_LvGeU1CeCtg"
   },
   "outputs": [],
   "source": [
    "import numpy as np\n",
    "import pandas as pd\n",
    "import torch\n",
    "import torch.nn as nn\n",
    "import torch.nn.parallel\n",
    "import torch.optim as optim\n",
    "import torch.utils.data\n",
    "from torch.autograd import Variable"
   ]
  },
  {
   "cell_type": "markdown",
   "metadata": {
    "id": "pM04FyMudkoK"
   },
   "source": [
    "## Importing the dataset\n"
   ]
  },
  {
   "cell_type": "code",
   "execution_count": 4,
   "metadata": {
    "id": "UJw2p3-Cewo4"
   },
   "outputs": [],
   "source": [
    "# We won't be using this dataset.\n",
    "movies = pd.read_csv('ml-1m/movies.dat', sep = '::', header = None, engine = 'python', encoding = 'latin-1')\n",
    "users = pd.read_csv('ml-1m/users.dat', sep = '::', header = None, engine = 'python', encoding = 'latin-1')\n",
    "ratings = pd.read_csv('ml-1m/ratings.dat', sep = '::', header = None, engine = 'python', encoding = 'latin-1')"
   ]
  },
  {
   "cell_type": "markdown",
   "metadata": {
    "id": "yTIbE2tkdkwP"
   },
   "source": [
    "## Preparing the training set and the test set\n"
   ]
  },
  {
   "cell_type": "code",
   "execution_count": 5,
   "metadata": {
    "id": "2usLKJBEgPE2"
   },
   "outputs": [],
   "source": [
    "training_set = pd.read_csv('ml-100k/u1.base', delimiter = '\\t')\n",
    "training_set = np.array(training_set, dtype = 'int')\n",
    "test_set = pd.read_csv('ml-100k/u1.test', delimiter = '\\t')\n",
    "test_set = np.array(test_set, dtype = 'int')"
   ]
  },
  {
   "cell_type": "markdown",
   "metadata": {
    "id": "zCf8HjSydk4s"
   },
   "source": [
    "## Getting the number of users and movies\n"
   ]
  },
  {
   "cell_type": "code",
   "execution_count": 6,
   "metadata": {
    "id": "gPaGZqdniC5m"
   },
   "outputs": [],
   "source": [
    "nb_users = int(max(max(training_set[:, 0], ), max(test_set[:, 0])))\n",
    "nb_movies = int(max(max(training_set[:, 1], ), max(test_set[:, 1])))"
   ]
  },
  {
   "cell_type": "markdown",
   "metadata": {
    "id": "J-w4-hVidlAm"
   },
   "source": [
    "## Converting the data into an array with users in lines and movies in columns\n"
   ]
  },
  {
   "cell_type": "code",
   "execution_count": 7,
   "metadata": {
    "id": "-wASs2YFiDaa"
   },
   "outputs": [],
   "source": [
    "def convert(data):\n",
    "  new_data = []\n",
    "  for id_users in range(1, nb_users + 1):\n",
    "    id_movies = data[:, 1] [data[:, 0] == id_users]\n",
    "    id_ratings = data[:, 2] [data[:, 0] == id_users]\n",
    "    ratings = np.zeros(nb_movies)\n",
    "    ratings[id_movies - 1] = id_ratings\n",
    "    new_data.append(list(ratings))\n",
    "  return new_data\n",
    "training_set = convert(training_set)\n",
    "test_set = convert(test_set)"
   ]
  },
  {
   "cell_type": "markdown",
   "metadata": {
    "id": "AMmhuUpldlHo"
   },
   "source": [
    "## Converting the data into Torch tensors\n"
   ]
  },
  {
   "cell_type": "code",
   "execution_count": 8,
   "metadata": {
    "id": "TwD-KD8yiEEw"
   },
   "outputs": [],
   "source": [
    "training_set = torch.FloatTensor(training_set)\n",
    "test_set = torch.FloatTensor(test_set)"
   ]
  },
  {
   "cell_type": "markdown",
   "metadata": {
    "id": "HIPruubGdlPW"
   },
   "source": [
    "## Converting the ratings into binary ratings 1 (Liked) or 0 (Not Liked)\n"
   ]
  },
  {
   "cell_type": "code",
   "execution_count": 9,
   "metadata": {
    "id": "cslbPSh6iEka"
   },
   "outputs": [],
   "source": [
    "training_set[training_set == 0] = -1\n",
    "training_set[training_set == 1] = 0\n",
    "training_set[training_set == 2] = 0\n",
    "training_set[training_set >= 3] = 1\n",
    "test_set[test_set == 0] = -1\n",
    "test_set[test_set == 1] = 0\n",
    "test_set[test_set == 2] = 0\n",
    "test_set[test_set >= 3] = 1"
   ]
  },
  {
   "cell_type": "markdown",
   "metadata": {
    "id": "6kkL8NkkdlZj"
   },
   "source": [
    "## Creating the architecture of the Neural Network\n"
   ]
  },
  {
   "cell_type": "code",
   "execution_count": 10,
   "metadata": {
    "id": "oU2nyh76iE6M"
   },
   "outputs": [],
   "source": [
    "class RBM():\n",
    "  def __init__(self, nv, nh):\n",
    "    self.W = torch.randn(nh, nv)\n",
    "    self.a = torch.randn(1, nh)\n",
    "    self.b = torch.randn(1, nv)\n",
    "  def sample_h(self, x):\n",
    "    wx = torch.mm(x, self.W.t())\n",
    "    activation = wx + self.a.expand_as(wx)\n",
    "    p_h_given_v = torch.sigmoid(activation)\n",
    "    return p_h_given_v, torch.bernoulli(p_h_given_v)\n",
    "  def sample_v(self, y):\n",
    "    wy = torch.mm(y, self.W)\n",
    "    activation = wy + self.b.expand_as(wy)\n",
    "    p_v_given_h = torch.sigmoid(activation)\n",
    "    return p_v_given_h, torch.bernoulli(p_v_given_h)\n",
    "  def train(self, v0, vk, ph0, phk):\n",
    "    self.W += (torch.mm(v0.t(), ph0) - torch.mm(vk.t(), phk)).t()\n",
    "    self.b += torch.sum((v0 - vk), 0)\n",
    "    self.a += torch.sum((ph0 - phk), 0)\n",
    "nv = len(training_set[0])\n",
    "nh = 100\n",
    "batch_size = 100\n",
    "rbm = RBM(nv, nh)"
   ]
  },
  {
   "cell_type": "markdown",
   "metadata": {
    "id": "7gy59alAdloL"
   },
   "source": [
    "## Training the RBM\n"
   ]
  },
  {
   "cell_type": "code",
   "execution_count": 11,
   "metadata": {
    "colab": {
     "base_uri": "https://localhost:8080/",
     "height": 187
    },
    "id": "FEz9hRaciFTs",
    "outputId": "677ba886-38ee-43f2-9a2d-bed081429295"
   },
   "outputs": [
    {
     "name": "stdout",
     "output_type": "stream",
     "text": [
      "epoch: 1 loss: tensor(0.3502)\n",
      "epoch: 2 loss: tensor(0.2550)\n",
      "epoch: 3 loss: tensor(0.2407)\n",
      "epoch: 4 loss: tensor(0.2472)\n",
      "epoch: 5 loss: tensor(0.2483)\n",
      "epoch: 6 loss: tensor(0.2477)\n",
      "epoch: 7 loss: tensor(0.2489)\n",
      "epoch: 8 loss: tensor(0.2451)\n",
      "epoch: 9 loss: tensor(0.2471)\n",
      "epoch: 10 loss: tensor(0.2449)\n"
     ]
    }
   ],
   "source": [
    "nb_epoch = 10\n",
    "for epoch in range(1, nb_epoch + 1):\n",
    "  train_loss = 0\n",
    "  s = 0.\n",
    "  for id_user in range(0, nb_users - batch_size, batch_size):\n",
    "    vk = training_set[id_user : id_user + batch_size]\n",
    "    v0 = training_set[id_user : id_user + batch_size]\n",
    "    ph0,_ = rbm.sample_h(v0)\n",
    "    for k in range(10):\n",
    "      _,hk = rbm.sample_h(vk)\n",
    "      _,vk = rbm.sample_v(hk)\n",
    "      vk[v0<0] = v0[v0<0]\n",
    "    phk,_ = rbm.sample_h(vk)\n",
    "    rbm.train(v0, vk, ph0, phk)\n",
    "    train_loss += torch.mean(torch.abs(v0[v0 >= 0] - vk[v0 >= 0]))\n",
    "    s += 1.\n",
    "  print('epoch: '+str(epoch)+' loss: '+str(train_loss/s))\n"
   ]
  },
  {
   "cell_type": "markdown",
   "metadata": {
    "id": "Bak5uc8gd-gX"
   },
   "source": [
    "## Testing the RBM\n"
   ]
  },
  {
   "cell_type": "code",
   "execution_count": 12,
   "metadata": {
    "colab": {
     "base_uri": "https://localhost:8080/",
     "height": 34
    },
    "id": "5ztvzYRtiGCz",
    "outputId": "2b5ed305-7700-4e25-c59a-5adae77a603a"
   },
   "outputs": [
    {
     "name": "stdout",
     "output_type": "stream",
     "text": [
      "test loss: tensor(0.2468)\n"
     ]
    }
   ],
   "source": [
    "test_loss = 0\n",
    "s = 0.\n",
    "for id_user in range(nb_users):\n",
    "    v = training_set[id_user:id_user+1]\n",
    "    vt = test_set[id_user:id_user+1]\n",
    "    if len(vt[vt>=0]) > 0:\n",
    "        _,h = rbm.sample_h(v)\n",
    "        _,v = rbm.sample_v(h)\n",
    "        test_loss += torch.mean(torch.abs(vt[vt>=0] - v[vt>=0]))\n",
    "        s += 1.\n",
    "print('test loss: '+str(test_loss/s))"
   ]
  },
  {
   "cell_type": "code",
   "execution_count": null,
   "metadata": {},
   "outputs": [],
   "source": []
  }
 ],
 "metadata": {
  "colab": {
   "collapsed_sections": [],
   "name": "Boltzmann Machine.ipynb",
   "provenance": [],
   "toc_visible": true
  },
  "kernelspec": {
   "display_name": "Python 3",
   "language": "python",
   "name": "python3"
  },
  "language_info": {
   "codemirror_mode": {
    "name": "ipython",
    "version": 3
   },
   "file_extension": ".py",
   "mimetype": "text/x-python",
   "name": "python",
   "nbconvert_exporter": "python",
   "pygments_lexer": "ipython3",
   "version": "3.7.6"
  }
 },
 "nbformat": 4,
 "nbformat_minor": 1
}
